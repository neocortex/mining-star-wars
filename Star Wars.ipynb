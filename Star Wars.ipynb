{
 "cells": [
  {
   "cell_type": "code",
   "execution_count": 1,
   "metadata": {
    "collapsed": true
   },
   "outputs": [],
   "source": [
    "import warnings\n",
    "warnings.filterwarnings('ignore')"
   ]
  },
  {
   "cell_type": "code",
   "execution_count": 2,
   "metadata": {
    "collapsed": true
   },
   "outputs": [],
   "source": [
    "from collections import defaultdict\n",
    "\n",
    "import bs4\n",
    "import requests"
   ]
  },
  {
   "cell_type": "code",
   "execution_count": 3,
   "metadata": {
    "collapsed": true
   },
   "outputs": [],
   "source": [
    "episodes = ['http://www.imsdb.com/scripts/Star-Wars-The-Phantom-Menace.html',\n",
    "            'http://www.imsdb.com/scripts/Star-Wars-Attack-of-the-Clones.html',\n",
    "            'http://www.imsdb.com/scripts/Star-Wars-Revenge-of-the-Sith.html',\n",
    "            'http://www.imsdb.com/scripts/Star-Wars-A-New-Hope.html',\n",
    "            'http://www.imsdb.com/scripts/Star-Wars-The-Empire-Strikes-Back.html',\n",
    "            'http://www.imsdb.com/scripts/Star-Wars-Return-of-the-Jedi.html']"
   ]
  },
  {
   "cell_type": "markdown",
   "metadata": {},
   "source": [
    "### Episode IV"
   ]
  },
  {
   "cell_type": "code",
   "execution_count": 35,
   "metadata": {
    "collapsed": true
   },
   "outputs": [],
   "source": [
    "res = requests.get(episodes[3])\n",
    "soup = bs4.BeautifulSoup(res.content)"
   ]
  },
  {
   "cell_type": "code",
   "execution_count": 36,
   "metadata": {
    "collapsed": false
   },
   "outputs": [],
   "source": [
    "bolds = soup.findAll('b')"
   ]
  },
  {
   "cell_type": "code",
   "execution_count": 37,
   "metadata": {
    "collapsed": false
   },
   "outputs": [],
   "source": [
    "characters = defaultdict(str)\n",
    "for b in bolds:\n",
    "    if len(b.text) - len(b.text.lstrip()) < 37:\n",
    "        continue\n",
    "    for t in b.nextSibling.split('\\n'):\n",
    "        if not t:\n",
    "            break\n",
    "        stripped = t.strip()\n",
    "        if not stripped.startswith('('):\n",
    "            characters[b.text.strip()] += ' ' + stripped"
   ]
  },
  {
   "cell_type": "code",
   "execution_count": 38,
   "metadata": {
    "collapsed": false
   },
   "outputs": [
    {
     "data": {
      "text/plain": [
       "[u'LUKE',\n",
       " u'HAN',\n",
       " u'THREEPIO',\n",
       " u'BEN',\n",
       " u'LEIA',\n",
       " u'BIGGS',\n",
       " u'VADER',\n",
       " u'TARKIN',\n",
       " u'OWEN',\n",
       " u'RED LEADER']"
      ]
     },
     "execution_count": 38,
     "metadata": {},
     "output_type": "execute_result"
    }
   ],
   "source": [
    "sorted(characters, key=lambda k: len(characters[k]), reverse=True)[:10]"
   ]
  },
  {
   "cell_type": "code",
   "execution_count": 39,
   "metadata": {
    "collapsed": false
   },
   "outputs": [],
   "source": [
    "#chosen = ['LUKE', 'HAN', 'THREEPIO', 'BEN', 'LEIA', 'VADER', 'TARKIN']\n",
    "#characters = dict([(k, v) for k, v in characters.iteritems() if k in chosen])\n",
    "#characters.keys()"
   ]
  },
  {
   "cell_type": "markdown",
   "metadata": {},
   "source": [
    "### Episode V"
   ]
  },
  {
   "cell_type": "code",
   "execution_count": 40,
   "metadata": {
    "collapsed": true
   },
   "outputs": [],
   "source": [
    "res = requests.get(episodes[4])\n",
    "soup = bs4.BeautifulSoup(res.content)"
   ]
  },
  {
   "cell_type": "code",
   "execution_count": 41,
   "metadata": {
    "collapsed": true
   },
   "outputs": [],
   "source": [
    "bolds = soup.findAll('b')"
   ]
  },
  {
   "cell_type": "code",
   "execution_count": 44,
   "metadata": {
    "collapsed": true
   },
   "outputs": [],
   "source": [
    "# i = 12\n",
    "# print len(bolds[i].text) - len(bolds[i].text.lstrip())\n",
    "# bolds[i]"
   ]
  },
  {
   "cell_type": "code",
   "execution_count": 42,
   "metadata": {
    "collapsed": false
   },
   "outputs": [],
   "source": [
    "for b in bolds:\n",
    "    if len(b.text) - len(b.text.lstrip()) != 4:\n",
    "        continue\n",
    "    for t in b.nextSibling.split('\\n'):\n",
    "        if not t:\n",
    "            break\n",
    "        stripped = t.strip()\n",
    "        if not stripped.startswith('('):\n",
    "            characters[b.text.strip()] += ' ' + stripped"
   ]
  },
  {
   "cell_type": "code",
   "execution_count": 43,
   "metadata": {
    "collapsed": false
   },
   "outputs": [
    {
     "data": {
      "text/plain": [
       "[u'LUKE',\n",
       " u'HAN',\n",
       " u'THREEPIO',\n",
       " u'LEIA',\n",
       " u'VADER',\n",
       " u'BEN',\n",
       " u'LANDO',\n",
       " u'YODA',\n",
       " u'BIGGS',\n",
       " u'TARKIN',\n",
       " u'OWEN',\n",
       " u'RED LEADER',\n",
       " u'DODONNA',\n",
       " u'PIETT',\n",
       " u'CREATURE',\n",
       " u'JABBA',\n",
       " u'RIEEKAN',\n",
       " u'TROOPER',\n",
       " u'OFFICER',\n",
       " u'WEDGE']"
      ]
     },
     "execution_count": 43,
     "metadata": {},
     "output_type": "execute_result"
    }
   ],
   "source": [
    "sorted(characters, key=lambda k: len(characters[k]), reverse=True)[:20]"
   ]
  },
  {
   "cell_type": "markdown",
   "metadata": {},
   "source": [
    "### Episode VI"
   ]
  },
  {
   "cell_type": "code",
   "execution_count": 45,
   "metadata": {
    "collapsed": true
   },
   "outputs": [],
   "source": [
    "res = requests.get(episodes[5])\n",
    "soup = bs4.BeautifulSoup(res.content)"
   ]
  },
  {
   "cell_type": "code",
   "execution_count": 46,
   "metadata": {
    "collapsed": true
   },
   "outputs": [],
   "source": [
    "bolds = soup.findAll('b')"
   ]
  },
  {
   "cell_type": "code",
   "execution_count": null,
   "metadata": {
    "collapsed": false
   },
   "outputs": [
    {
     "ename": "TypeError",
     "evalue": "'NoneType' object is not callable",
     "output_type": "error",
     "traceback": [
      "\u001b[0;31m---------------------------------------------------------------------------\u001b[0m",
      "\u001b[0;31mTypeError\u001b[0m                                 Traceback (most recent call last)",
      "\u001b[0;32m<ipython-input-56-abd9ea3fca03>\u001b[0m in \u001b[0;36m<module>\u001b[0;34m()\u001b[0m\n\u001b[1;32m      2\u001b[0m     \u001b[0;32mif\u001b[0m \u001b[0mb\u001b[0m\u001b[0;34m.\u001b[0m\u001b[0mtext\u001b[0m\u001b[0;34m[\u001b[0m\u001b[0;36m0\u001b[0m\u001b[0;34m]\u001b[0m\u001b[0;34m.\u001b[0m\u001b[0misdigit\u001b[0m\u001b[0;34m(\u001b[0m\u001b[0;34m)\u001b[0m\u001b[0;34m:\u001b[0m\u001b[0;34m\u001b[0m\u001b[0m\n\u001b[1;32m      3\u001b[0m         \u001b[0;32mcontinue\u001b[0m\u001b[0;34m\u001b[0m\u001b[0m\n\u001b[0;32m----> 4\u001b[0;31m     \u001b[0;32mfor\u001b[0m \u001b[0mt\u001b[0m \u001b[0;32min\u001b[0m \u001b[0mb\u001b[0m\u001b[0;34m.\u001b[0m\u001b[0mnextSibling\u001b[0m\u001b[0;34m.\u001b[0m\u001b[0msplit\u001b[0m\u001b[0;34m(\u001b[0m\u001b[0;34m'\\n'\u001b[0m\u001b[0;34m)\u001b[0m\u001b[0;34m:\u001b[0m\u001b[0;34m\u001b[0m\u001b[0m\n\u001b[0m\u001b[1;32m      5\u001b[0m         \u001b[0;32mif\u001b[0m \u001b[0;32mnot\u001b[0m \u001b[0mt\u001b[0m\u001b[0;34m:\u001b[0m\u001b[0;34m\u001b[0m\u001b[0m\n\u001b[1;32m      6\u001b[0m             \u001b[0;32mbreak\u001b[0m\u001b[0;34m\u001b[0m\u001b[0m\n",
      "\u001b[0;31mTypeError\u001b[0m: 'NoneType' object is not callable"
     ]
    },
    {
     "name": "stdout",
     "output_type": "stream",
     "text": [
      "> \u001b[0;32m<ipython-input-56-abd9ea3fca03>\u001b[0m(4)\u001b[0;36m<module>\u001b[0;34m()\u001b[0m\n",
      "\u001b[0;32m      3 \u001b[0;31m        \u001b[0;32mcontinue\u001b[0m\u001b[0;34m\u001b[0m\u001b[0m\n",
      "\u001b[0m\u001b[0;32m----> 4 \u001b[0;31m    \u001b[0;32mfor\u001b[0m \u001b[0mt\u001b[0m \u001b[0;32min\u001b[0m \u001b[0mb\u001b[0m\u001b[0;34m.\u001b[0m\u001b[0mnextSibling\u001b[0m\u001b[0;34m.\u001b[0m\u001b[0msplit\u001b[0m\u001b[0;34m(\u001b[0m\u001b[0;34m'\\n'\u001b[0m\u001b[0;34m)\u001b[0m\u001b[0;34m:\u001b[0m\u001b[0;34m\u001b[0m\u001b[0m\n",
      "\u001b[0m\u001b[0;32m      5 \u001b[0;31m        \u001b[0;32mif\u001b[0m \u001b[0;32mnot\u001b[0m \u001b[0mt\u001b[0m\u001b[0;34m:\u001b[0m\u001b[0;34m\u001b[0m\u001b[0m\n",
      "\u001b[0m\n",
      "ipdb> !b.nextSibling.split(\n",
      "*** SyntaxError: unexpected EOF while parsing (<stdin>, line 1)\n",
      "ipdb> !b.nextSibling.split('\\n')\n",
      "*** TypeError: 'NoneType' object is not callable\n",
      "ipdb> !b.nextSibling\n",
      "<b>I...\\n</b>\n",
      "ipdb> !b.nextSibling.split('\\n')\n",
      "*** TypeError: 'NoneType' object is not callable\n"
     ]
    }
   ],
   "source": [
    "for b in bolds:\n",
    "    if b.text[0].isdigit():\n",
    "        continue\n",
    "    for t in b.nextSibling.split('\\n'):\n",
    "        if not t:\n",
    "            break\n",
    "        stripped = t.strip()\n",
    "        if not stripped.startswith('('):\n",
    "            characters[b.text.strip()] += ' ' + stripped"
   ]
  },
  {
   "cell_type": "code",
   "execution_count": 53,
   "metadata": {
    "collapsed": false
   },
   "outputs": [
    {
     "name": "stdout",
     "output_type": "stream",
     "text": [
      "Automatic pdb calling has been turned ON\n"
     ]
    }
   ],
   "source": [
    "%pdb"
   ]
  },
  {
   "cell_type": "code",
   "execution_count": 51,
   "metadata": {
    "collapsed": false
   },
   "outputs": [
    {
     "data": {
      "text/plain": [
       "True"
      ]
     },
     "execution_count": 51,
     "metadata": {},
     "output_type": "execute_result"
    }
   ],
   "source": [
    "bolds[0].text[0].isdigit()"
   ]
  },
  {
   "cell_type": "code",
   "execution_count": null,
   "metadata": {
    "collapsed": true
   },
   "outputs": [],
   "source": []
  }
 ],
 "metadata": {
  "kernelspec": {
   "display_name": "Python 2",
   "language": "python",
   "name": "python2"
  },
  "language_info": {
   "codemirror_mode": {
    "name": "ipython",
    "version": 2
   },
   "file_extension": ".py",
   "mimetype": "text/x-python",
   "name": "python",
   "nbconvert_exporter": "python",
   "pygments_lexer": "ipython2",
   "version": "2.7.11"
  }
 },
 "nbformat": 4,
 "nbformat_minor": 0
}
